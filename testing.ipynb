{
 "cells": [
  {
   "cell_type": "code",
   "execution_count": 1,
   "id": "7d4faca4",
   "metadata": {},
   "outputs": [],
   "source": [
    "import warnings\n",
    "warnings.filterwarnings(\"ignore\")"
   ]
  },
  {
   "cell_type": "code",
   "execution_count": 2,
   "id": "e30910d8",
   "metadata": {},
   "outputs": [],
   "source": [
    "import os\n",
    "import dotenv\n",
    "from langchain.chat_models import init_chat_model\n",
    "\n",
    "dotenv.load_dotenv()\n",
    "\n",
    "GOOGLE_API_KEY = dotenv.load_dotenv(\"GOOGLE_API_KEY\")"
   ]
  },
  {
   "cell_type": "code",
   "execution_count": 3,
   "id": "a2a815e4",
   "metadata": {},
   "outputs": [
    {
     "name": "stderr",
     "output_type": "stream",
     "text": [
      "WARNING: All log messages before absl::InitializeLog() is called are written to STDERR\n",
      "E0000 00:00:1759824072.584473 5213682 alts_credentials.cc:93] ALTS creds ignored. Not running on GCP and untrusted ALTS is not enabled.\n"
     ]
    }
   ],
   "source": [
    "llm = init_chat_model(\"google_genai:gemini-2.5-flash\")"
   ]
  },
  {
   "cell_type": "code",
   "execution_count": 4,
   "id": "582944e3",
   "metadata": {},
   "outputs": [],
   "source": [
    "from typing import Annotated\n",
    "\n",
    "from typing_extensions import TypedDict\n",
    "from langgraph.graph import StateGraph, START, END\n",
    "from langgraph.graph.message import add_messages"
   ]
  },
  {
   "cell_type": "code",
   "execution_count": 5,
   "id": "933b113d",
   "metadata": {},
   "outputs": [],
   "source": [
    "class State(TypedDict):\n",
    "    # Messages have the type \"list\". The `add_messages` function\n",
    "    # in the annotation defines how this state key should be updated\n",
    "    # (in this case, it appends messages to the list, rather than overwriting them)\n",
    "    messages: Annotated[list, add_messages]"
   ]
  },
  {
   "cell_type": "code",
   "execution_count": 6,
   "id": "edceeb50",
   "metadata": {},
   "outputs": [],
   "source": [
    "graph_builder = StateGraph(State)"
   ]
  },
  {
   "cell_type": "code",
   "execution_count": 7,
   "id": "05f75a69",
   "metadata": {},
   "outputs": [],
   "source": [
    "def chatbot(state: State):\n",
    "    return {'messages': [llm.invoke(state['messages'])]}"
   ]
  },
  {
   "cell_type": "code",
   "execution_count": 8,
   "id": "790aa334",
   "metadata": {},
   "outputs": [
    {
     "data": {
      "text/plain": [
       "<langgraph.graph.state.StateGraph at 0x117382c10>"
      ]
     },
     "execution_count": 8,
     "metadata": {},
     "output_type": "execute_result"
    }
   ],
   "source": [
    "graph_builder.add_node('chatbot', chatbot)"
   ]
  },
  {
   "cell_type": "code",
   "execution_count": 9,
   "id": "c7a8ebbb",
   "metadata": {},
   "outputs": [
    {
     "data": {
      "text/plain": [
       "<langgraph.graph.state.StateGraph at 0x117382c10>"
      ]
     },
     "execution_count": 9,
     "metadata": {},
     "output_type": "execute_result"
    }
   ],
   "source": [
    "graph_builder.add_edge(START, 'chatbot')"
   ]
  },
  {
   "cell_type": "code",
   "execution_count": 10,
   "id": "2c7c9571",
   "metadata": {},
   "outputs": [
    {
     "data": {
      "text/plain": [
       "<langgraph.graph.state.StateGraph at 0x117382c10>"
      ]
     },
     "execution_count": 10,
     "metadata": {},
     "output_type": "execute_result"
    }
   ],
   "source": [
    "graph_builder.add_edge('chatbot', END)"
   ]
  },
  {
   "cell_type": "code",
   "execution_count": 11,
   "id": "865c9ba5",
   "metadata": {},
   "outputs": [],
   "source": [
    "graph = graph_builder.compile()"
   ]
  },
  {
   "cell_type": "code",
   "execution_count": 12,
   "id": "d98cb6b4",
   "metadata": {},
   "outputs": [
    {
     "data": {
      "image/png": "[encoded data removed]",
      "text/plain": [
       "<IPython.core.display.Image object>"
      ]
     },
     "metadata": {},
     "output_type": "display_data"
    }
   ],
   "source": [
    "from IPython.display import Image, display\n",
    "\n",
    "try:\n",
    "    display(Image(graph.get_graph().draw_mermaid_png()))\n",
    "except Exception:\n",
    "    # This requires some extra dependencies and is optional\n",
    "    pass"
   ]
  },
  {
   "cell_type": "code",
   "execution_count": 13,
   "id": "9f3a8465",
   "metadata": {},
   "outputs": [],
   "source": [
    "def stream_graph_updates(user_input: str):\n",
    "    for event in graph.stream({\"messages\": [{\"role\": \"user\", \"content\": user_input}]}):\n",
    "        for value in event.values():\n",
    "            print(\"Assistant:\", value[\"messages\"][-1].content)"
   ]
  },
  {
   "cell_type": "code",
   "execution_count": 14,
   "id": "c858ed64",
   "metadata": {},
   "outputs": [
    {
     "name": "stdout",
     "output_type": "stream",
     "text": [
      "Assistant: Hello! How can I help you today?\n",
      "Assistant: The current President of India is **Droupadi Murmu**.\n",
      "\n",
      "She assumed office on July 25, 2022.\n",
      "Assistant: It's important to clarify that India and the United States have not had a direct military conflict or a \"win/loss\" situation in most other domains. They are strategic partners with strong diplomatic and economic ties.\n",
      "\n",
      "However, if you are referring to a **sports match**, specifically **cricket**, then it's highly likely India would win against the United States.\n",
      "\n",
      "Here's why, in the context of cricket:\n",
      "\n",
      "1.  **Dominance in Cricket:** India is one of the top-ranked and most dominant teams in international cricket. Cricket is a national obsession in India, with a massive talent pool, professional leagues (like the IPL), and a long history of success.\n",
      "2.  **USA's Developing Cricket:** The United States cricket team is relatively new to the international stage and is still developing. While they are improving and have some talented players (often from cricket-playing nations), they do not have the same level of infrastructure, player depth, or experience as India.\n",
      "3.  **Head-to-Head Record (if any):** In any official or unofficial cricket match between the two, India would be the overwhelming favorite and would almost certainly win due to its vastly superior talent, experience, and cricketing culture.\n",
      "\n",
      "It's worth noting that in other major sports, the situation might be reversed. For example, the US would likely dominate India in basketball or American football. But in cricket, India is currently a global powerhouse.\n",
      "Assistant: Goodbye!\n",
      "Take care!\n",
      "Goodbye!\n"
     ]
    }
   ],
   "source": [
    "while True:\n",
    "    try:\n",
    "        user_input = input(\"User: \")\n",
    "        if user_input.lower() in [\"quit\", \"exit\", \"q\"]:\n",
    "            print(\"Goodbye!\")\n",
    "            break\n",
    "        stream_graph_updates(user_input)\n",
    "    except:\n",
    "        # fallback if input() is not available\n",
    "        user_input = \"What do you know about LangGraph?\"\n",
    "        print(\"User: \" + user_input)\n",
    "        stream_graph_updates(user_input)\n",
    "        break"
   ]
  },
  {
   "cell_type": "code",
   "execution_count": 1,
   "id": "5258f13b",
   "metadata": {},
   "outputs": [
    {
     "name": "stdout",
     "output_type": "stream",
     "text": [
      "107886080n1\n",
      "107886080n2\n"
     ]
    }
   ],
   "source": [
    "import hashlib\n",
    "\n",
    "def generate_document_id(doc: str, index: int = 1) -> str:\n",
    "    \"\"\"\n",
    "    Generate deterministic numeric ID with suffix n1, n2, etc.\n",
    "    \n",
    "    Args:\n",
    "        doc (str): The document content\n",
    "        index (int): Index for uniqueness (default 1)\n",
    "    \n",
    "    Returns:\n",
    "        str: Generated ID, e.g., 748837283n1\n",
    "    \"\"\"\n",
    "    # Step 1: Convert string to bytes\n",
    "    doc_bytes = doc.encode(\"utf-8\")\n",
    "    \n",
    "    # Step 2: Hash the string using MD5 or SHA256\n",
    "    hash_object = hashlib.md5(doc_bytes)\n",
    "    \n",
    "    # Step 3: Convert hash to integer and take first few digits\n",
    "    hash_int = int(hash_object.hexdigest(), 16)\n",
    "    hash_str = str(hash_int)[:9]  # take first 9 digits for readability\n",
    "    \n",
    "    # Step 4: Append index suffix\n",
    "    generated_id = f\"{hash_str}n{index}\"\n",
    "    \n",
    "    return generated_id\n",
    "\n",
    "# Example\n",
    "doc = \"Hello how are you\"\n",
    "print(generate_document_id(doc, 1))  # e.g., 748837283n1\n",
    "print(generate_document_id(doc, 2))  # e.g., 748837283n2"
   ]
  },
  {
   "cell_type": "code",
   "execution_count": 1,
   "id": "968947bb",
   "metadata": {},
   "outputs": [
    {
     "name": "stderr",
     "output_type": "stream",
     "text": [
      "/Users/poppinadityagmail.com/Developer/GitHub_Codes/mr-helpmate-ai/.venv/lib/python3.11/site-packages/tqdm/auto.py:21: TqdmWarning: IProgress not found. Please update jupyter and ipywidgets. See https://ipywidgets.readthedocs.io/en/stable/user_install.html\n",
      "  from .autonotebook import tqdm as notebook_tqdm\n"
     ]
    },
    {
     "name": "stdout",
     "output_type": "stream",
     "text": [
      "Similarity score between text1 and text2: -2.4171\n"
     ]
    }
   ],
   "source": [
    "from sentence_transformers import CrossEncoder\n",
    "\n",
    "# Example texts\n",
    "text1 = \"I love playing football.\"\n",
    "text2 = \"Soccer is my favorite sport.\"\n",
    "\n",
    "# Load a pre-trained cross-encoder model for semantic similarity\n",
    "# You can choose any suitable model from: https://huggingface.co/sentence-transformers\n",
    "model = CrossEncoder('cross-encoder/ms-marco-MiniLM-L-6-v2')\n",
    "\n",
    "# Input as a list of text pairs\n",
    "pairs = [[text1, text2]]\n",
    "\n",
    "# Predict similarity scores\n",
    "scores = model.predict(pairs)\n",
    "\n",
    "print(f\"Similarity score between text1 and text2: {scores[0]:.4f}\")"
   ]
  },
  {
   "cell_type": "code",
   "execution_count": 2,
   "id": "6c768317",
   "metadata": {},
   "outputs": [
    {
     "name": "stdout",
     "output_type": "stream",
     "text": [
      "Similarity score between text1 and text2: -2.4171\n"
     ]
    }
   ],
   "source": [
    "from sentence_transformers import CrossEncoder\n",
    "\n",
    "# Example texts\n",
    "text1 = \"I love playing football.\"\n",
    "text2 = \"Soccer is my favorite sport.\"\n",
    "\n",
    "# Load a pre-trained cross-encoder model for semantic similarity\n",
    "# You can choose any suitable model from: https://huggingface.co/sentence-transformers\n",
    "model = CrossEncoder('cross-encoder/ms-marco-MiniLM-L-6-v2')\n",
    "\n",
    "# Input as a list of text pairs\n",
    "pairs = [[text1, text2]]\n",
    "\n",
    "# Predict similarity scores\n",
    "scores = model.predict(pairs)\n",
    "\n",
    "print(f\"Similarity score between text1 and text2: {scores[0]:.4f}\")"
   ]
  },
  {
   "cell_type": "code",
   "execution_count": 3,
   "id": "b6ce9516",
   "metadata": {},
   "outputs": [
    {
     "name": "stdout",
     "output_type": "stream",
     "text": [
      "Similarity score between text1 and text2: -2.4171\n"
     ]
    }
   ],
   "source": [
    "from sentence_transformers import CrossEncoder\n",
    "\n",
    "# Example texts\n",
    "text1 = \"I love playing football.\"\n",
    "text2 = \"Soccer is my favorite sport.\"\n",
    "\n",
    "# Load a pre-trained cross-encoder model for semantic similarity\n",
    "# You can choose any suitable model from: https://huggingface.co/sentence-transformers\n",
    "model = CrossEncoder('cross-encoder/ms-marco-MiniLM-L-6-v2')\n",
    "\n",
    "# Input as a list of text pairs\n",
    "pairs = [[text1, text2]]\n",
    "\n",
    "# Predict similarity scores\n",
    "scores = model.predict(pairs)\n",
    "\n",
    "print(f\"Similarity score between text1 and text2: {scores[0]:.4f}\")"
   ]
  },
  {
   "cell_type": "code",
   "execution_count": 4,
   "id": "e822a820",
   "metadata": {},
   "outputs": [
    {
     "name": "stdout",
     "output_type": "stream",
     "text": [
      "Cosine similarity (single pair): 0.7607\n",
      "Time taken (single pair): 0.010707 sec\n",
      "Cosine similarities (embedding1 vs batch) first 5: [0.7490525 0.7558036 0.7598893 0.7621662 0.7595457]\n",
      "Time taken (batch of 1000): 0.001645 sec\n"
     ]
    }
   ],
   "source": [
    "from sklearn.metrics.pairwise import cosine_similarity\n",
    "import numpy as np\n",
    "import time\n",
    "\n",
    "# Generate random embeddings for testing\n",
    "embedding_size = 768  # typical embedding size\n",
    "embedding1 = np.random.rand(embedding_size).astype(np.float32)\n",
    "embedding2 = np.random.rand(embedding_size).astype(np.float32)\n",
    "\n",
    "# Optionally, create multiple embeddings to test batch performance\n",
    "num_embeddings = 1000\n",
    "embedding_batch = np.random.rand(num_embeddings, embedding_size).astype(np.float32)\n",
    "\n",
    "# --- Single comparison ---\n",
    "start = time.time()\n",
    "sim = cosine_similarity([embedding1], [embedding2])[0][0]\n",
    "end = time.time()\n",
    "print(f\"Cosine similarity (single pair): {sim:.4f}\")\n",
    "print(f\"Time taken (single pair): {end - start:.6f} sec\")\n",
    "\n",
    "# --- Batch comparison (embedding1 vs batch) ---\n",
    "start = time.time()\n",
    "sims = cosine_similarity([embedding1], embedding_batch)[0]\n",
    "end = time.time()\n",
    "print(f\"Cosine similarities (embedding1 vs batch) first 5: {sims[:5]}\")\n",
    "print(f\"Time taken (batch of {num_embeddings}): {end - start:.6f} sec\")"
   ]
  },
  {
   "cell_type": "code",
   "execution_count": 6,
   "id": "942afea9",
   "metadata": {},
   "outputs": [
    {
     "name": "stdout",
     "output_type": "stream",
     "text": [
      "\n",
      "=== Cross-Encoder Similarity Test ===\n",
      "Similarity score between text1 and text2: -2.4171\n",
      "Time taken (Cross-Encoder): 4.874623 sec\n",
      "\n",
      "=== Embedding Cosine Similarity Test ===\n",
      "Cosine similarity (single pair): 0.7442\n",
      "Time taken (single pair): 0.001431 sec\n",
      "Cosine similarities (embedding1 vs batch) first 5: [0.75799984 0.74224573 0.75904715 0.7564192  0.7476599 ]\n",
      "Time taken (batch of 1000): 0.001594 sec\n",
      "\n",
      "=== Summary ===\n",
      "Cross-Encoder -> More accurate but slower (good for re-ranking small sets)\n",
      "Cosine Similarity -> Fast and scalable (ideal for large vector search)\n"
     ]
    }
   ],
   "source": [
    "from sentence_transformers import CrossEncoder\n",
    "from sklearn.metrics.pairwise import cosine_similarity\n",
    "import numpy as np\n",
    "import time\n",
    "\n",
    "# -------------------------------\n",
    "# 🔹 Test 1: Cross-Encoder (Text)\n",
    "# -------------------------------\n",
    "text1 = \"I love playing football.\"\n",
    "text2 = \"Soccer is my favorite sport.\"\n",
    "\n",
    "print(\"\\n=== Cross-Encoder Similarity Test ===\")\n",
    "\n",
    "start = time.time()\n",
    "# Load pre-trained cross-encoder model for semantic similarity\n",
    "model = CrossEncoder('cross-encoder/ms-marco-MiniLM-L-6-v2')\n",
    "\n",
    "# Input as text pairs\n",
    "pairs = [[text1, text2]]\n",
    "\n",
    "# Predict similarity scores\n",
    "scores = model.predict(pairs)\n",
    "end = time.time()\n",
    "\n",
    "print(f\"Similarity score between text1 and text2: {scores[0]:.4f}\")\n",
    "print(f\"Time taken (Cross-Encoder): {end - start:.6f} sec\")\n",
    "\n",
    "\n",
    "# ----------------------------------\n",
    "# 🔹 Test 2: Embedding Similarity\n",
    "# ----------------------------------\n",
    "print(\"\\n=== Embedding Cosine Similarity Test ===\")\n",
    "\n",
    "embedding_size = 768  # typical embedding size\n",
    "embedding1 = np.random.rand(embedding_size).astype(np.float32)\n",
    "embedding2 = np.random.rand(embedding_size).astype(np.float32)\n",
    "\n",
    "# Optionally, create multiple embeddings to test batch performance\n",
    "num_embeddings = 1000\n",
    "embedding_batch = np.random.rand(num_embeddings, embedding_size).astype(np.float32)\n",
    "\n",
    "# --- Single comparison ---\n",
    "start = time.time()\n",
    "sim = cosine_similarity([embedding1], [embedding2])[0][0]\n",
    "end = time.time()\n",
    "print(f\"Cosine similarity (single pair): {sim:.4f}\")\n",
    "print(f\"Time taken (single pair): {end - start:.6f} sec\")\n",
    "\n",
    "# --- Batch comparison (embedding1 vs batch) ---\n",
    "start = time.time()\n",
    "sims = cosine_similarity([embedding1], embedding_batch)[0]\n",
    "end = time.time()\n",
    "print(f\"Cosine similarities (embedding1 vs batch) first 5: {sims[:5]}\")\n",
    "print(f\"Time taken (batch of {num_embeddings}): {end - start:.6f} sec\")\n",
    "\n",
    "# ----------------------------------\n",
    "# Summary\n",
    "# ----------------------------------\n",
    "print(\"\\n=== Summary ===\")\n",
    "print(\"Cross-Encoder -> More accurate but slower (good for re-ranking small sets)\")\n",
    "print(\"Cosine Similarity -> Fast and scalable (ideal for large vector search)\")"
   ]
  },
  {
   "cell_type": "code",
   "execution_count": 1,
   "id": "83737550",
   "metadata": {},
   "outputs": [
    {
     "name": "stderr",
     "output_type": "stream",
     "text": [
      "/Users/poppinadityagmail.com/Developer/GitHub_Codes/mr-helpmate-ai/.venv/lib/python3.11/site-packages/tqdm/auto.py:21: TqdmWarning: IProgress not found. Please update jupyter and ipywidgets. See https://ipywidgets.readthedocs.io/en/stable/user_install.html\n",
      "  from .autonotebook import tqdm as notebook_tqdm\n"
     ]
    }
   ],
   "source": [
    "from typing import TypedDict, List, Dict, Any, Annotated, Optional\n",
    "import json\n",
    "\n",
    "from langgraph.graph import StateGraph, END\n",
    "from langgraph.graph.message import add_messages\n",
    "from langgraph.prebuilt import ToolNode\n",
    "\n",
    "from langchain_core.tools import tool\n",
    "from langchain_core.messages import AIMessage, ToolMessage, BaseMessage\n",
    "\n",
    "from src.backend.generation_layer import ChatCompletion\n",
    "from src.artifacts import SystemInstruction\n",
    "from src.backend.intent_moderation_check import (IntentCheck,\n",
    "                                                 ModerationCheck)\n",
    "from src.database.chromadb_vectorstore import VectorStore\n",
    "from src.backend.reranker import Reranker\n",
    "\n",
    "\n",
    "mod_chk = ModerationCheck()\n",
    "int_cnf = IntentCheck()\n",
    "chat_completion = ChatCompletion()\n",
    "vector_store = VectorStore()\n",
    "reranker = Reranker()\n",
    "\n",
    "\n",
    "class State(TypedDict, total=False):\n",
    "    messages: Annotated[List[BaseMessage], add_messages]\n",
    "    \n",
    "    input: str\n",
    "    \n",
    "    flagged_input: bool\n",
    "    in_scope: bool\n",
    "    flagged_output: bool\n",
    "    \n",
    "    top_documents: List[str]\n",
    "    context: str\n",
    "    \n",
    "    ai_response: str\n",
    "    \n",
    "    \n",
    "@tool(\"moderation_check\")\n",
    "def moderation_check_tool(input_message: str) -> bool:\n",
    "    \"\"\" \n",
    "    Return True if input_message violates moderation policy; \n",
    "    otherwise False.\n",
    "    \"\"\"\n",
    "    return bool(mod_chk.check_moderation(input_message=input_message))\n",
    "\n",
    "@tool('intent_check')\n",
    "def intent_check_tool(input_message: str) -> bool:\n",
    "    \"\"\"\n",
    "    Return True if input_message is in scope of allowed intents; otherwise False.\n",
    "    \"\"\"\n",
    "    return bool(int_cnf.check_intent(input_message=input_message))\n",
    "\n",
    "TOOLS = [moderation_check_tool, intent_check_tool]\n",
    "tools_node = ToolNode(TOOLS)\n",
    "\n",
    "\n",
    "def parse_bool_from_tool_content(content: Any) -> bool:\n",
    "    \"\"\"\n",
    "    Robustly parse a boolean-like value from a tool's returned content.\n",
    "    Handles: True/False, \"true\"/\"false\", \"True\"/\"False\", 1/0, JSON-encoded, etc.\n",
    "    \"\"\"\n",
    "    if isinstance(content, bool):\n",
    "        return content\n",
    "    \n",
    "    if isinstance(content, (int, float)):\n",
    "        return content != 0\n",
    "    \n",
    "    if isinstance(content, str):\n",
    "        s = content.strip()\n",
    "        try:\n",
    "            loaded = json.loads(s)\n",
    "            if isinstance(loaded, bool):\n",
    "                return loaded\n",
    "            if isinstance(loaded, (int, float)):\n",
    "                return loaded != 0\n",
    "            if isinstance(loaded, str):\n",
    "                s2 = loaded.strip().lower()\n",
    "                return s2 in (\"true\", \"1\", \"yes\", \"y\")\n",
    "        except Exception:\n",
    "            pass\n",
    "        \n",
    "        s = s.lower()\n",
    "        return s in (\"true\", \"1\", \"yes\", \"y\")\n",
    "    \n",
    "    return bool(content)\n",
    "\n",
    "\n",
    "\n",
    "def schedule_input_checks(state: State) -> Dict[str, Any]:\n",
    "    \"\"\"\n",
    "    Create an AIMessage that requests tool calls for moderation and intent checks.\n",
    "    ToolNode will see these tool_calls and execute the tools.\n",
    "    \"\"\"\n",
    "    ai_for_tools = AIMessage(\n",
    "        content=\"\",\n",
    "        tool_calls = [\n",
    "            {\n",
    "                \"name\": \"moderation_check\",\n",
    "                \"args\": {\n",
    "                    \"input_message\": state[\"input\"]\n",
    "                },\n",
    "                \"id\": \"call_moderation_in\"\n",
    "            },\n",
    "            {\n",
    "                \"name\": \"intent_check\",\n",
    "                \"args\": {\n",
    "                    \"input_message\": state[\"input\"]\n",
    "                },\n",
    "                \"id\": \"call_intent_in\"\n",
    "            },\n",
    "        ],\n",
    "    )\n",
    "    return {\"message\": [ai_for_tools]}\n",
    "\n",
    "\n",
    "def parse_input_checks(state: State) -> Dict[str, Any]:\n",
    "    \"\"\" \n",
    "    Read ToolMessages corresponding to the input checks and set flags in state.\n",
    "    We look for tool_call_id 'call_moderation_in' and 'call_intent_in'.\n",
    "    \"\"\"\n",
    "    flagged_input: Optional[bool] = None\n",
    "    in_scope: Optional[bool] = None\n",
    "    \n",
    "    for msg in state.get(\"messages\", []):\n",
    "        if isinstance(msg, ToolMessage):\n",
    "            if getattr(msg, \"tool_call_id\", None) == \"call_moderation_in\":\n",
    "                flagged_input = parse_bool_from_tool_content(msg.content)\n",
    "            elif getattr(msg, \"tool_call_id\", None) == \"call_intent_in\":\n",
    "                in_scope = parse_bool_from_tool_content(msg.content)\n",
    "        \n",
    "        if flagged_input is None:\n",
    "            flagged_input = False\n",
    "        \n",
    "        if in_scope is None:\n",
    "            in_scope = False\n",
    "\n",
    "    return {\"flagged_input\": flagged_input, \"in_scope\": in_scope}\n",
    "\n",
    "\n",
    "def route_after_input_tools(state: State) -> str:\n",
    "    if state.get(\"flagged_input\"):\n",
    "        return \"flagged\"\n",
    "    \n",
    "    if not state.get(\"in_scope\"):\n",
    "        return \"out_of_scope\"\n",
    "    \n",
    "    return \"proceed\"\n",
    "\n",
    "\n",
    "def handle_input_flagged(_: State) -> Dict[str, Any]:\n",
    "    return {\n",
    "        \"ai_response\": \"Your Conversation has been flagged!, restarting the conversation.\"\n",
    "    }\n",
    "    \n",
    "def handle_out_of_scope(_: State) -> Dict[str, Any]:\n",
    "    return {\n",
    "        \"ai_response\": \"Your question is out of scope or context, please ask the right question related to the domain.\"\n",
    "    }\n",
    "    \n",
    "    \n",
    "def retrieve(state: State) -> Dict[str, Any]:\n",
    "    result = vector_store.query_from_db(query=state[\"input\"], top_k=10)\n",
    "    docs = result.get(\"documents\", []) if isinstance(result, dict) else []\n",
    "    return {\"top_documents\": docs}\n",
    "\n",
    "\n",
    "def rerank(state: State) -> Dict[str, Any]:\n",
    "    documents = state.get(\"top_documents\") or []\n",
    "    pairs = reranker.rerank_documents(\n",
    "        documents=documents,\n",
    "        query=state[\"input\"],\n",
    "        top_k=3\n",
    "    )\n",
    "    reranked_context = \"\"\n",
    "    for score, doc in pairs:\n",
    "        reranked_context += doc + \"\\n\\n\\n\"\n",
    "    return {\"context\": reranked_context}\n",
    "\n",
    "\n",
    "def call_llm(state: State) -> Dict[str, Any]:\n",
    "    user_content = state[\"input\"] + \"###context:\\n\" + (state.get(\"context\") or \"\")\n",
    "    messages_for_llm = [\n",
    "        {\"role\": \"system\", \"content\": SystemInstruction.prompt},\n",
    "        {\"role\": \"user\", \"content\": user_content},\n",
    "    ]\n",
    "    ai_response = chat_completion.chat_completion(messages=messages_for_llm)\n",
    "    return {\"ai_response\": ai_response}\n",
    "\n",
    "\n",
    "def schedule_output_moderation(state: State) -> Dict[str, Any]:\n",
    "    \"\"\"\n",
    "    After LLM, schedule a moderation check for the model's response using the same tool.\n",
    "    \"\"\"\n",
    "    ai_for_tools = AIMessage(\n",
    "        content=\"\",\n",
    "        tool_calls=[\n",
    "            {\n",
    "                \"name\": \"moderation_check\",\n",
    "                \"args\": {\"input_message\": state.get(\"ai_response\", \"\")},\n",
    "                \"id\": \"call_moderation_out\",\n",
    "            }\n",
    "        ],\n",
    "    )\n",
    "    return {\"messages\": [ai_for_tools]}\n",
    "\n",
    "\n",
    "def parse_output_moderation(state: State) -> Dict[str, Any]:\n",
    "    \"\"\"\n",
    "    Parse the result from the output moderation tool call.\n",
    "    \"\"\"\n",
    "    flagged_output: Optional[bool] = None\n",
    "    for msg in state.get(\"messages\", []):\n",
    "        if isinstance(msg, ToolMessage) and getattr(msg, \"tool_call_id\", None) == \"call_moderation_out\":\n",
    "            flagged_output = parse_bool_from_tool_content(msg.content)\n",
    "            break\n",
    "\n",
    "    if flagged_output is None:\n",
    "        flagged_output = False\n",
    "\n",
    "    return {\"flagged_output\": flagged_output}\n",
    "\n",
    "\n",
    "def route_after_output_moderation(state: State) -> str:\n",
    "    return \"flagged\" if state.get(\"flagged_output\") else \"ok\"\n",
    "\n",
    "\n",
    "def handle_output_flagged(_: State) -> Dict[str, Any]:\n",
    "    return {\n",
    "        \"ai_response\": \"Your Conversation has been flagged!, restarting the conversation.\"\n",
    "    }\n",
    "    \n",
    "    \n",
    "    \n",
    "def build_graph():\n",
    "    graph = StateGraph(State)\n",
    "    \n",
    "    graph.add_node(\"schedule_input_checks\", schedule_input_checks)\n",
    "    graph.add_node(\"tools\", tools_node)\n",
    "    graph.add_node(\"parse_input_checks\", parse_input_checks)\n",
    "    graph.add_node(\"handle_input_flagged\", handle_input_flagged)\n",
    "    graph.add_node(\"handle_out_of_scope\", handle_out_of_scope)\n",
    "    \n",
    "    graph.add_node(\"retrieve\", retrieve)\n",
    "    graph.add_node(\"rerank\", rerank)\n",
    "    graph.add_node(\"call_llm\", call_llm)\n",
    "    \n",
    "    graph.add_node(\"schedule_output_moderation\", schedule_output_moderation)\n",
    "    graph.add_node(\"parse_output_moderation\", parse_output_moderation)\n",
    "    graph.add_node(\"handle_output_flagged\", handle_output_flagged)\n",
    "    \n",
    "    graph.set_entry_point(\"schedule_input_checks\")\n",
    "    \n",
    "    graph.add_edge(\"schedule_input_checks\", \"tools\")\n",
    "    graph.add_edge(\"tools\", \"parse_input_checks\")\n",
    "    graph.add_conditional_edges(\n",
    "        \"parse_input_checks\",\n",
    "        route_after_input_tools,\n",
    "        {\n",
    "            \"flagged\": \"handle_input_flagged\",\n",
    "            \"out_of_scope\": \"handle_out_of_scope\",\n",
    "            \"proceed\": \"retrieve\",\n",
    "        },\n",
    "    )\n",
    "    \n",
    "    graph.add_edge(\"handle_input_flagged\", END)\n",
    "    graph.add_edge(\"handle_out_of_scope\", END)\n",
    "    \n",
    "    # Retrieval → Rerank → LLM\n",
    "    graph.add_edge(\"retrieve\", \"rerank\")\n",
    "    graph.add_edge(\"rerank\", \"call_llm\")\n",
    "\n",
    "    # Output moderation via tools\n",
    "    graph.add_edge(\"call_llm\", \"schedule_output_moderation\")\n",
    "    graph.add_edge(\"schedule_output_moderation\", \"tools\")\n",
    "    graph.add_edge(\"tools\", \"parse_output_moderation\")\n",
    "    graph.add_conditional_edges(\n",
    "        \"parse_output_moderation\",\n",
    "        route_after_output_moderation,\n",
    "        {\n",
    "            \"flagged\": \"handle_output_flagged\",\n",
    "            \"ok\": END,\n",
    "        },\n",
    "    )\n",
    "    graph.add_edge(\"handle_output_flagged\", END)\n",
    "    \n",
    "    return graph.compile()\n",
    "\n",
    "\n",
    "def main():\n",
    "    app = build_graph()\n",
    "    print(\"Type 'exit', 'bye', or 'end' to quit.\")\n",
    "    while True:\n",
    "        input_message = input(\"User: \")\n",
    "        if input_message in [\"exit\", \"bye\", \"end\"]:\n",
    "            print(\"Thank you for your time, hope I helped. Bye!\")\n",
    "            print(\"Chat Terminated....\")\n",
    "            break\n",
    "\n",
    "        initial_state: State = {\n",
    "            \"input\": input_message,\n",
    "            \"messages\": [],  \n",
    "        }\n",
    "\n",
    "        result: State = app.invoke(initial_state)\n",
    "\n",
    "        print(\"Assistant: \", result.get(\"ai_response\", \"\"))\n",
    "        print(\"\\n\\n\")\n",
    "        \n",
    "if __name__ == \"__main__\":\n",
    "    pass"
   ]
  },
  {
   "cell_type": "code",
   "execution_count": 2,
   "id": "9c936310",
   "metadata": {},
   "outputs": [
    {
     "data": {
      "image/png": "[encoded data removed]",
      "text/plain": [
       "<IPython.core.display.Image object>"
      ]
     },
     "metadata": {},
     "output_type": "display_data"
    }
   ],
   "source": [
    "from IPython.display import Image, display\n",
    "\n",
    "try:\n",
    "    display(Image(build_graph().get_graph().draw_mermaid_png()))\n",
    "except Exception:\n",
    "    # This requires some extra dependencies and is optional\n",
    "    pass"
   ]
  },
  {
   "cell_type": "code",
   "execution_count": null,
   "id": "97fb8708",
   "metadata": {},
   "outputs": [],
   "source": []
  }
 ],
 "metadata": {
  "kernelspec": {
   "display_name": "mr-helpmate-ai (3.11.13)",
   "language": "python",
   "name": "python3"
  },
  "language_info": {
   "codemirror_mode": {
    "name": "ipython",
    "version": 3
   },
   "file_extension": ".py",
   "mimetype": "text/x-python",
   "name": "python",
   "nbconvert_exporter": "python",
   "pygments_lexer": "ipython3",
   "version": "3.11.13"
  }
 },
 "nbformat": 4,
 "nbformat_minor": 5
}
