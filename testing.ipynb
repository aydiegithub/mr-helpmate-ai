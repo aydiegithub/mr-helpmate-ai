{
 "cells": [
  {
   "cell_type": "code",
   "execution_count": 1,
   "id": "7d4faca4",
   "metadata": {},
   "outputs": [],
   "source": [
    "import warnings\n",
    "warnings.filterwarnings(\"ignore\")"
   ]
  },
  {
   "cell_type": "code",
   "execution_count": 2,
   "id": "e30910d8",
   "metadata": {},
   "outputs": [],
   "source": [
    "import os\n",
    "import dotenv\n",
    "from langchain.chat_models import init_chat_model\n",
    "\n",
    "dotenv.load_dotenv()\n",
    "\n",
    "GOOGLE_API_KEY = dotenv.load_dotenv(\"GOOGLE_API_KEY\")"
   ]
  },
  {
   "cell_type": "code",
   "execution_count": 3,
   "id": "a2a815e4",
   "metadata": {},
   "outputs": [
    {
     "name": "stderr",
     "output_type": "stream",
     "text": [
      "WARNING: All log messages before absl::InitializeLog() is called are written to STDERR\n",
      "E0000 00:00:1759824072.584473 5213682 alts_credentials.cc:93] ALTS creds ignored. Not running on GCP and untrusted ALTS is not enabled.\n"
     ]
    }
   ],
   "source": [
    "llm = init_chat_model(\"google_genai:gemini-2.5-flash\")"
   ]
  },
  {
   "cell_type": "code",
   "execution_count": 4,
   "id": "582944e3",
   "metadata": {},
   "outputs": [],
   "source": [
    "from typing import Annotated\n",
    "\n",
    "from typing_extensions import TypedDict\n",
    "from langgraph.graph import StateGraph, START, END\n",
    "from langgraph.graph.message import add_messages"
   ]
  },
  {
   "cell_type": "code",
   "execution_count": 5,
   "id": "933b113d",
   "metadata": {},
   "outputs": [],
   "source": [
    "class State(TypedDict):\n",
    "    # Messages have the type \"list\". The `add_messages` function\n",
    "    # in the annotation defines how this state key should be updated\n",
    "    # (in this case, it appends messages to the list, rather than overwriting them)\n",
    "    messages: Annotated[list, add_messages]"
   ]
  },
  {
   "cell_type": "code",
   "execution_count": 6,
   "id": "edceeb50",
   "metadata": {},
   "outputs": [],
   "source": [
    "graph_builder = StateGraph(State)"
   ]
  },
  {
   "cell_type": "code",
   "execution_count": 7,
   "id": "05f75a69",
   "metadata": {},
   "outputs": [],
   "source": [
    "def chatbot(state: State):\n",
    "    return {'messages': [llm.invoke(state['messages'])]}"
   ]
  },
  {
   "cell_type": "code",
   "execution_count": 8,
   "id": "790aa334",
   "metadata": {},
   "outputs": [
    {
     "data": {
      "text/plain": [
       "<langgraph.graph.state.StateGraph at 0x117382c10>"
      ]
     },
     "execution_count": 8,
     "metadata": {},
     "output_type": "execute_result"
    }
   ],
   "source": [
    "graph_builder.add_node('chatbot', chatbot)"
   ]
  },
  {
   "cell_type": "code",
   "execution_count": 9,
   "id": "c7a8ebbb",
   "metadata": {},
   "outputs": [
    {
     "data": {
      "text/plain": [
       "<langgraph.graph.state.StateGraph at 0x117382c10>"
      ]
     },
     "execution_count": 9,
     "metadata": {},
     "output_type": "execute_result"
    }
   ],
   "source": [
    "graph_builder.add_edge(START, 'chatbot')"
   ]
  },
  {
   "cell_type": "code",
   "execution_count": 10,
   "id": "2c7c9571",
   "metadata": {},
   "outputs": [
    {
     "data": {
      "text/plain": [
       "<langgraph.graph.state.StateGraph at 0x117382c10>"
      ]
     },
     "execution_count": 10,
     "metadata": {},
     "output_type": "execute_result"
    }
   ],
   "source": [
    "graph_builder.add_edge('chatbot', END)"
   ]
  },
  {
   "cell_type": "code",
   "execution_count": 11,
   "id": "865c9ba5",
   "metadata": {},
   "outputs": [],
   "source": [
    "graph = graph_builder.compile()"
   ]
  },
  {
   "cell_type": "code",
   "execution_count": 12,
   "id": "d98cb6b4",
   "metadata": {},
   "outputs": [
    {
     "data": {
      "image/png": "[encoded data removed]",
      "text/plain": [
       "<IPython.core.display.Image object>"
      ]
     },
     "metadata": {},
     "output_type": "display_data"
    }
   ],
   "source": [
    "from IPython.display import Image, display\n",
    "\n",
    "try:\n",
    "    display(Image(graph.get_graph().draw_mermaid_png()))\n",
    "except Exception:\n",
    "    # This requires some extra dependencies and is optional\n",
    "    pass"
   ]
  },
  {
   "cell_type": "code",
   "execution_count": 13,
   "id": "9f3a8465",
   "metadata": {},
   "outputs": [],
   "source": [
    "def stream_graph_updates(user_input: str):\n",
    "    for event in graph.stream({\"messages\": [{\"role\": \"user\", \"content\": user_input}]}):\n",
    "        for value in event.values():\n",
    "            print(\"Assistant:\", value[\"messages\"][-1].content)"
   ]
  },
  {
   "cell_type": "code",
   "execution_count": 14,
   "id": "c858ed64",
   "metadata": {},
   "outputs": [
    {
     "name": "stdout",
     "output_type": "stream",
     "text": [
      "Assistant: Hello! How can I help you today?\n",
      "Assistant: The current President of India is **Droupadi Murmu**.\n",
      "\n",
      "She assumed office on July 25, 2022.\n",
      "Assistant: It's important to clarify that India and the United States have not had a direct military conflict or a \"win/loss\" situation in most other domains. They are strategic partners with strong diplomatic and economic ties.\n",
      "\n",
      "However, if you are referring to a **sports match**, specifically **cricket**, then it's highly likely India would win against the United States.\n",
      "\n",
      "Here's why, in the context of cricket:\n",
      "\n",
      "1.  **Dominance in Cricket:** India is one of the top-ranked and most dominant teams in international cricket. Cricket is a national obsession in India, with a massive talent pool, professional leagues (like the IPL), and a long history of success.\n",
      "2.  **USA's Developing Cricket:** The United States cricket team is relatively new to the international stage and is still developing. While they are improving and have some talented players (often from cricket-playing nations), they do not have the same level of infrastructure, player depth, or experience as India.\n",
      "3.  **Head-to-Head Record (if any):** In any official or unofficial cricket match between the two, India would be the overwhelming favorite and would almost certainly win due to its vastly superior talent, experience, and cricketing culture.\n",
      "\n",
      "It's worth noting that in other major sports, the situation might be reversed. For example, the US would likely dominate India in basketball or American football. But in cricket, India is currently a global powerhouse.\n",
      "Assistant: Goodbye!\n",
      "Take care!\n",
      "Goodbye!\n"
     ]
    }
   ],
   "source": [
    "while True:\n",
    "    try:\n",
    "        user_input = input(\"User: \")\n",
    "        if user_input.lower() in [\"quit\", \"exit\", \"q\"]:\n",
    "            print(\"Goodbye!\")\n",
    "            break\n",
    "        stream_graph_updates(user_input)\n",
    "    except:\n",
    "        # fallback if input() is not available\n",
    "        user_input = \"What do you know about LangGraph?\"\n",
    "        print(\"User: \" + user_input)\n",
    "        stream_graph_updates(user_input)\n",
    "        break"
   ]
  },
  {
   "cell_type": "code",
   "execution_count": 1,
   "id": "5258f13b",
   "metadata": {},
   "outputs": [
    {
     "name": "stdout",
     "output_type": "stream",
     "text": [
      "107886080n1\n",
      "107886080n2\n"
     ]
    }
   ],
   "source": [
    "import hashlib\n",
    "\n",
    "def generate_document_id(doc: str, index: int = 1) -> str:\n",
    "    \"\"\"\n",
    "    Generate deterministic numeric ID with suffix n1, n2, etc.\n",
    "    \n",
    "    Args:\n",
    "        doc (str): The document content\n",
    "        index (int): Index for uniqueness (default 1)\n",
    "    \n",
    "    Returns:\n",
    "        str: Generated ID, e.g., 748837283n1\n",
    "    \"\"\"\n",
    "    # Step 1: Convert string to bytes\n",
    "    doc_bytes = doc.encode(\"utf-8\")\n",
    "    \n",
    "    # Step 2: Hash the string using MD5 or SHA256\n",
    "    hash_object = hashlib.md5(doc_bytes)\n",
    "    \n",
    "    # Step 3: Convert hash to integer and take first few digits\n",
    "    hash_int = int(hash_object.hexdigest(), 16)\n",
    "    hash_str = str(hash_int)[:9]  # take first 9 digits for readability\n",
    "    \n",
    "    # Step 4: Append index suffix\n",
    "    generated_id = f\"{hash_str}n{index}\"\n",
    "    \n",
    "    return generated_id\n",
    "\n",
    "# Example\n",
    "doc = \"Hello how are you\"\n",
    "print(generate_document_id(doc, 1))  # e.g., 748837283n1\n",
    "print(generate_document_id(doc, 2))  # e.g., 748837283n2"
   ]
  },
  {
   "cell_type": "code",
   "execution_count": 1,
   "id": "968947bb",
   "metadata": {},
   "outputs": [
    {
     "name": "stderr",
     "output_type": "stream",
     "text": [
      "/Users/poppinadityagmail.com/Developer/GitHub_Codes/mr-helpmate-ai/.venv/lib/python3.11/site-packages/tqdm/auto.py:21: TqdmWarning: IProgress not found. Please update jupyter and ipywidgets. See https://ipywidgets.readthedocs.io/en/stable/user_install.html\n",
      "  from .autonotebook import tqdm as notebook_tqdm\n"
     ]
    },
    {
     "name": "stdout",
     "output_type": "stream",
     "text": [
      "Similarity score between text1 and text2: -2.4171\n"
     ]
    }
   ],
   "source": [
    "from sentence_transformers import CrossEncoder\n",
    "\n",
    "# Example texts\n",
    "text1 = \"I love playing football.\"\n",
    "text2 = \"Soccer is my favorite sport.\"\n",
    "\n",
    "# Load a pre-trained cross-encoder model for semantic similarity\n",
    "# You can choose any suitable model from: https://huggingface.co/sentence-transformers\n",
    "model = CrossEncoder('cross-encoder/ms-marco-MiniLM-L-6-v2')\n",
    "\n",
    "# Input as a list of text pairs\n",
    "pairs = [[text1, text2]]\n",
    "\n",
    "# Predict similarity scores\n",
    "scores = model.predict(pairs)\n",
    "\n",
    "print(f\"Similarity score between text1 and text2: {scores[0]:.4f}\")"
   ]
  },
  {
   "cell_type": "code",
   "execution_count": 2,
   "id": "6c768317",
   "metadata": {},
   "outputs": [
    {
     "name": "stdout",
     "output_type": "stream",
     "text": [
      "Similarity score between text1 and text2: -2.4171\n"
     ]
    }
   ],
   "source": [
    "from sentence_transformers import CrossEncoder\n",
    "\n",
    "# Example texts\n",
    "text1 = \"I love playing football.\"\n",
    "text2 = \"Soccer is my favorite sport.\"\n",
    "\n",
    "# Load a pre-trained cross-encoder model for semantic similarity\n",
    "# You can choose any suitable model from: https://huggingface.co/sentence-transformers\n",
    "model = CrossEncoder('cross-encoder/ms-marco-MiniLM-L-6-v2')\n",
    "\n",
    "# Input as a list of text pairs\n",
    "pairs = [[text1, text2]]\n",
    "\n",
    "# Predict similarity scores\n",
    "scores = model.predict(pairs)\n",
    "\n",
    "print(f\"Similarity score between text1 and text2: {scores[0]:.4f}\")"
   ]
  },
  {
   "cell_type": "code",
   "execution_count": 3,
   "id": "b6ce9516",
   "metadata": {},
   "outputs": [
    {
     "name": "stdout",
     "output_type": "stream",
     "text": [
      "Similarity score between text1 and text2: -2.4171\n"
     ]
    }
   ],
   "source": [
    "from sentence_transformers import CrossEncoder\n",
    "\n",
    "# Example texts\n",
    "text1 = \"I love playing football.\"\n",
    "text2 = \"Soccer is my favorite sport.\"\n",
    "\n",
    "# Load a pre-trained cross-encoder model for semantic similarity\n",
    "# You can choose any suitable model from: https://huggingface.co/sentence-transformers\n",
    "model = CrossEncoder('cross-encoder/ms-marco-MiniLM-L-6-v2')\n",
    "\n",
    "# Input as a list of text pairs\n",
    "pairs = [[text1, text2]]\n",
    "\n",
    "# Predict similarity scores\n",
    "scores = model.predict(pairs)\n",
    "\n",
    "print(f\"Similarity score between text1 and text2: {scores[0]:.4f}\")"
   ]
  },
  {
   "cell_type": "code",
   "execution_count": 4,
   "id": "e822a820",
   "metadata": {},
   "outputs": [
    {
     "name": "stdout",
     "output_type": "stream",
     "text": [
      "Cosine similarity (single pair): 0.7607\n",
      "Time taken (single pair): 0.010707 sec\n",
      "Cosine similarities (embedding1 vs batch) first 5: [0.7490525 0.7558036 0.7598893 0.7621662 0.7595457]\n",
      "Time taken (batch of 1000): 0.001645 sec\n"
     ]
    }
   ],
   "source": [
    "from sklearn.metrics.pairwise import cosine_similarity\n",
    "import numpy as np\n",
    "import time\n",
    "\n",
    "# Generate random embeddings for testing\n",
    "embedding_size = 768  # typical embedding size\n",
    "embedding1 = np.random.rand(embedding_size).astype(np.float32)\n",
    "embedding2 = np.random.rand(embedding_size).astype(np.float32)\n",
    "\n",
    "# Optionally, create multiple embeddings to test batch performance\n",
    "num_embeddings = 1000\n",
    "embedding_batch = np.random.rand(num_embeddings, embedding_size).astype(np.float32)\n",
    "\n",
    "# --- Single comparison ---\n",
    "start = time.time()\n",
    "sim = cosine_similarity([embedding1], [embedding2])[0][0]\n",
    "end = time.time()\n",
    "print(f\"Cosine similarity (single pair): {sim:.4f}\")\n",
    "print(f\"Time taken (single pair): {end - start:.6f} sec\")\n",
    "\n",
    "# --- Batch comparison (embedding1 vs batch) ---\n",
    "start = time.time()\n",
    "sims = cosine_similarity([embedding1], embedding_batch)[0]\n",
    "end = time.time()\n",
    "print(f\"Cosine similarities (embedding1 vs batch) first 5: {sims[:5]}\")\n",
    "print(f\"Time taken (batch of {num_embeddings}): {end - start:.6f} sec\")"
   ]
  },
  {
   "cell_type": "code",
   "execution_count": 6,
   "id": "942afea9",
   "metadata": {},
   "outputs": [
    {
     "name": "stdout",
     "output_type": "stream",
     "text": [
      "\n",
      "=== Cross-Encoder Similarity Test ===\n",
      "Similarity score between text1 and text2: -2.4171\n",
      "Time taken (Cross-Encoder): 4.874623 sec\n",
      "\n",
      "=== Embedding Cosine Similarity Test ===\n",
      "Cosine similarity (single pair): 0.7442\n",
      "Time taken (single pair): 0.001431 sec\n",
      "Cosine similarities (embedding1 vs batch) first 5: [0.75799984 0.74224573 0.75904715 0.7564192  0.7476599 ]\n",
      "Time taken (batch of 1000): 0.001594 sec\n",
      "\n",
      "=== Summary ===\n",
      "Cross-Encoder -> More accurate but slower (good for re-ranking small sets)\n",
      "Cosine Similarity -> Fast and scalable (ideal for large vector search)\n"
     ]
    }
   ],
   "source": [
    "from sentence_transformers import CrossEncoder\n",
    "from sklearn.metrics.pairwise import cosine_similarity\n",
    "import numpy as np\n",
    "import time\n",
    "\n",
    "# -------------------------------\n",
    "# 🔹 Test 1: Cross-Encoder (Text)\n",
    "# -------------------------------\n",
    "text1 = \"I love playing football.\"\n",
    "text2 = \"Soccer is my favorite sport.\"\n",
    "\n",
    "print(\"\\n=== Cross-Encoder Similarity Test ===\")\n",
    "\n",
    "start = time.time()\n",
    "# Load pre-trained cross-encoder model for semantic similarity\n",
    "model = CrossEncoder('cross-encoder/ms-marco-MiniLM-L-6-v2')\n",
    "\n",
    "# Input as text pairs\n",
    "pairs = [[text1, text2]]\n",
    "\n",
    "# Predict similarity scores\n",
    "scores = model.predict(pairs)\n",
    "end = time.time()\n",
    "\n",
    "print(f\"Similarity score between text1 and text2: {scores[0]:.4f}\")\n",
    "print(f\"Time taken (Cross-Encoder): {end - start:.6f} sec\")\n",
    "\n",
    "\n",
    "# ----------------------------------\n",
    "# 🔹 Test 2: Embedding Similarity\n",
    "# ----------------------------------\n",
    "print(\"\\n=== Embedding Cosine Similarity Test ===\")\n",
    "\n",
    "embedding_size = 768  # typical embedding size\n",
    "embedding1 = np.random.rand(embedding_size).astype(np.float32)\n",
    "embedding2 = np.random.rand(embedding_size).astype(np.float32)\n",
    "\n",
    "# Optionally, create multiple embeddings to test batch performance\n",
    "num_embeddings = 1000\n",
    "embedding_batch = np.random.rand(num_embeddings, embedding_size).astype(np.float32)\n",
    "\n",
    "# --- Single comparison ---\n",
    "start = time.time()\n",
    "sim = cosine_similarity([embedding1], [embedding2])[0][0]\n",
    "end = time.time()\n",
    "print(f\"Cosine similarity (single pair): {sim:.4f}\")\n",
    "print(f\"Time taken (single pair): {end - start:.6f} sec\")\n",
    "\n",
    "# --- Batch comparison (embedding1 vs batch) ---\n",
    "start = time.time()\n",
    "sims = cosine_similarity([embedding1], embedding_batch)[0]\n",
    "end = time.time()\n",
    "print(f\"Cosine similarities (embedding1 vs batch) first 5: {sims[:5]}\")\n",
    "print(f\"Time taken (batch of {num_embeddings}): {end - start:.6f} sec\")\n",
    "\n",
    "# ----------------------------------\n",
    "# Summary\n",
    "# ----------------------------------\n",
    "print(\"\\n=== Summary ===\")\n",
    "print(\"Cross-Encoder -> More accurate but slower (good for re-ranking small sets)\")\n",
    "print(\"Cosine Similarity -> Fast and scalable (ideal for large vector search)\")"
   ]
  },
  {
   "cell_type": "code",
   "execution_count": null,
   "id": "83737550",
   "metadata": {},
   "outputs": [],
   "source": []
  }
 ],
 "metadata": {
  "kernelspec": {
   "display_name": "mr-helpmate-ai (3.11.13)",
   "language": "python",
   "name": "python3"
  },
  "language_info": {
   "codemirror_mode": {
    "name": "ipython",
    "version": 3
   },
   "file_extension": ".py",
   "mimetype": "text/x-python",
   "name": "python",
   "nbconvert_exporter": "python",
   "pygments_lexer": "ipython3",
   "version": "3.11.13"
  }
 },
 "nbformat": 4,
 "nbformat_minor": 5
}
